{
  "nbformat": 4,
  "nbformat_minor": 0,
  "metadata": {
    "colab": {
      "provenance": [],
      "authorship_tag": "ABX9TyMFBBz9z8+O6uBmvNCPdhxC",
      "include_colab_link": true
    },
    "kernelspec": {
      "name": "python3",
      "display_name": "Python 3"
    },
    "language_info": {
      "name": "python"
    }
  },
  "cells": [
    {
      "cell_type": "markdown",
      "metadata": {
        "id": "view-in-github",
        "colab_type": "text"
      },
      "source": [
        "<a href=\"https://colab.research.google.com/github/DeadXasan/SCV_Git_PR/blob/main/Untitled0.ipynb\" target=\"_parent\"><img src=\"https://colab.research.google.com/assets/colab-badge.svg\" alt=\"Open In Colab\"/></a>"
      ]
    },
    {
      "cell_type": "code",
      "source": [
        "# Подключение Google\n",
        "from google.colab import drive\n",
        "drive.mount ('/content/gdrive', force_remount=True)"
      ],
      "metadata": {
        "colab": {
          "base_uri": "https://localhost:8080/"
        },
        "id": "W4BzSTbnRnsZ",
        "outputId": "1f5fded4-a703-46b8-de4b-106023f4cc13"
      },
      "execution_count": 11,
      "outputs": [
        {
          "output_type": "stream",
          "name": "stdout",
          "text": [
            "Mounted at /content/gdrive\n"
          ]
        }
      ]
    },
    {
      "cell_type": "code",
      "source": [
        "import pandas as pd"
      ],
      "metadata": {
        "id": "qcQwK7S0Hfjy"
      },
      "execution_count": 12,
      "outputs": []
    },
    {
      "cell_type": "code",
      "source": [
        "data = pd.read_csv('sample_data/california_housing_train.csv')\n",
        "\n",
        "population_min = 0\n",
        "population_max = 500\n",
        "\n",
        "filtered_data = data[(data['population'] >= population_min) & (data['population'] <= population_max)]\n",
        "\n",
        "average_house_value = filtered_data['median_house_value'].mean()\n",
        "\n",
        "print(f\"Средняя стоимость дома для населения от {population_min} до {population_max}: {average_house_value:.2f}\")"
      ],
      "metadata": {
        "colab": {
          "base_uri": "https://localhost:8080/"
        },
        "id": "TZKfi3x9S00p",
        "outputId": "3266a740-069a-4a8c-d2a8-871feaa48ce1"
      },
      "execution_count": 14,
      "outputs": [
        {
          "output_type": "stream",
          "name": "stdout",
          "text": [
            "Средняя стоимость дома для населения от 0 до 500: 206799.95\n"
          ]
        }
      ]
    },
    {
      "cell_type": "code",
      "source": [
        "min_population = data['population'].min()\n",
        "\n",
        "min_population_data = data[data['population'] == min_population]\n",
        "\n",
        "max_households_in_min_population = min_population_data['households'].max()\n",
        "\n",
        "print(f\"Максимальное количество households в зоне минимального значения population: {max_households_in_min_population}\")"
      ],
      "metadata": {
        "colab": {
          "base_uri": "https://localhost:8080/"
        },
        "id": "dfjlmo1nTbiQ",
        "outputId": "87237710-9609-49d6-be1f-945e9b78afe0"
      },
      "execution_count": 16,
      "outputs": [
        {
          "output_type": "stream",
          "name": "stdout",
          "text": [
            "Максимальное количество households в зоне минимального значения population: 4.0\n"
          ]
        }
      ]
    }
  ]
}